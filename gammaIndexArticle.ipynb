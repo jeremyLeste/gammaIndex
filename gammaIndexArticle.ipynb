{
 "cells": [
  {
   "cell_type": "code",
   "execution_count": 54,
   "metadata": {},
   "outputs": [
    {
     "data": {
      "text/html": [
       "<script>requirejs.config({paths: { 'plotly': ['https://cdn.plot.ly/plotly-latest.min']},});if(!window.Plotly) {{require(['plotly'],function(plotly) {window.Plotly=plotly;});}}</script>"
      ],
      "text/vnd.plotly.v1+html": [
       "<script>requirejs.config({paths: { 'plotly': ['https://cdn.plot.ly/plotly-latest.min']},});if(!window.Plotly) {{require(['plotly'],function(plotly) {window.Plotly=plotly;});}}</script>"
      ]
     },
     "metadata": {},
     "output_type": "display_data"
    }
   ],
   "source": [
    "import sys , os \n",
    "import numpy as np\n",
    "import math as m\n",
    "import pandas as pd\n",
    "import csv\n",
    "\n"
   ]
  },
  {
   "cell_type": "code",
   "execution_count": 64,
   "metadata": {},
   "outputs": [],
   "source": [
    "energy='12'\n",
    "heter='b'\n",
    "depth='30'"
   ]
  },
  {
   "cell_type": "code",
   "execution_count": 65,
   "metadata": {},
   "outputs": [],
   "source": [
    "mesurePlot=\"/home/crct/CRCT/JupyterNotebook/data/gammaIndex/\"+energy+\"E/new/f\"+heter+energy+\"e\"+depth+\".csv\"\n",
    "gatePlot=\"/home/crct/CRCT/JupyterNotebook/data/gammaIndex/\"+energy+\"E/new/g\"+heter+energy+\"e\"+depth+\".csv\"\n",
    "emcPlot=\"/home/crct/CRCT/JupyterNotebook/data/gammaIndex/\"+energy+\"E/new/emc\"+heter+energy+\"e\"+depth+\".csv\"\n",
    "\n",
    "gateuncertaityPlot=\"/home/crct/CRCT/JupyterNotebook/data/gammaIndex/\"+energy+\"E/new/uncertainty/\"+heter+\"g\"+energy+\"e\"+depth+\"_uncertainty.csv\"\n",
    "\n",
    "mesurePlotData=pd.read_csv(mesurePlot, sep=',')\n",
    "gatePlotData=pd.read_csv(gatePlot, sep=',')\n",
    "emcPlotData=pd.read_csv(emcPlot, sep=',')\n",
    "\n",
    "\n",
    "gateuncertaintyPlotData=pd.read_csv(gateuncertaityPlot, sep=',')\n",
    "gateuncertaintyPlotDataw=pd.read_csv(gateuncertaityPlot, sep=',')"
   ]
  },
  {
   "cell_type": "code",
   "execution_count": 66,
   "metadata": {},
   "outputs": [],
   "source": [
    "LinearInterpolation=True\n",
    "\n",
    "Threshold=True\n",
    "ThresholdValue=0.1\n",
    "\n",
    "#Gamma Index criterion \n",
    "DTA=3 #mm\n",
    "deltaDmax=0.03 #%\n",
    "\n",
    "name=energy+heter+depth"
   ]
  },
  {
   "cell_type": "code",
   "execution_count": 67,
   "metadata": {},
   "outputs": [],
   "source": [
    "xGscale=6\n",
    "xEMCscale=5\n",
    "\n",
    "mdown=-20\n",
    "mup=-15"
   ]
  },
  {
   "cell_type": "code",
   "execution_count": 68,
   "metadata": {},
   "outputs": [
    {
     "name": "stdout",
     "output_type": "stream",
     "text": [
      "ok\n"
     ]
    }
   ],
   "source": [
    "#Create numpy ndarray from pandas dataFrames\n",
    "refX=mesurePlotData['pas']\n",
    "refY=mesurePlotData['value']\n",
    "gateX=gatePlotData['pas']\n",
    "gateY=gatePlotData['value']\n",
    "emcX=emcPlotData['pas']\n",
    "emcY=emcPlotData['value']\n",
    "\n",
    "gateUx=gateuncertaintyPlotData['pas']\n",
    "gateUy=gateuncertaintyPlotData['value']\n",
    "\n",
    "\n",
    "refX=refX-(refX.max()/2)\n",
    "emcX=emcX-(emcX.max()/2)\n",
    "\n",
    "#Dose Grid scaling\n",
    "#emcY=(emcY*4.0e-6)/2\n",
    "#refY=refY*0.01\n",
    "#gateUy=gateUy*100\n",
    "\n",
    "# Compute Linear interpolation for simulated values and measured values according to your parameters (change 1000 values to change number of points)\n",
    "if LinearInterpolation==True:\n",
    "    refX2=np.linspace(refX.min(), refX.max(), 2000)\n",
    "    refY2=np.interp(refX2, refX, refY)\n",
    "    gateX2=np.linspace(gateX.min(), gateX.max(), 2000)\n",
    "    gateY2=np.interp(gateX2, gateX, gateY)\n",
    "    emcX2=np.linspace(emcX.min(), emcX.max(), 2000)\n",
    "    emcY2=np.interp(emcX2, emcX, emcY)\n",
    "\n",
    "    gateUx2=np.linspace(gateUx.min(), gateX.max(), 2000)\n",
    "    gateUy2=np.interp(gateUx2, gateUx, gateUy)\n",
    "\n",
    "else:\n",
    "    refX2= refX\n",
    "    refY2= refY\n",
    "    gateX2= gateX\n",
    "    gateY2= gateY\n",
    "    emcX2= emcX\n",
    "    emcY2= emcY\n",
    "\n",
    "    \n",
    "\n",
    "emcY2=np.flipud(emcY2)\n",
    "\n",
    "maskFilm=(refX2 > mdown) & (refX2 < mup)\n",
    "maskGate=(gateX2 > mdown) & (gateX2 < mup)\n",
    "maskEmc=(emcX2 > mdown) & (emcX2 < mup)\n",
    "\n",
    "#normalisation mean homogeneity\n",
    "refY2=refY2/refY2[maskFilm].mean()\n",
    "gateY2=gateY2/gateY2[maskGate].mean()\n",
    "emcY2=emcY2/emcY2[maskEmc].mean()\n",
    "\n",
    "#uncertainies\n",
    "\n",
    "gateUy2=gateUy2*gateY2\n",
    "\n",
    "    #SCALING\n",
    "gateX2=gateX2+xGscale\n",
    "emcX2=emcX2+xEMCscale\n",
    "print 'ok'\n",
    "\n"
   ]
  },
  {
   "cell_type": "code",
   "execution_count": 69,
   "metadata": {},
   "outputs": [
    {
     "name": "stdout",
     "output_type": "stream",
     "text": [
      "nombre de points testés : 1265\n",
      "nombre de points passant le test (<1) : 1251.0\n",
      "RESULTAT GATE : \n",
      "*   Gamma Index Pass Rate 3.0%-3mm: 98.8932806324 %\n"
     ]
    }
   ],
   "source": [
    "#  GATE  #\n",
    "#create numpy ndarray for gamma comprison\n",
    "deltaD=np.zeros(len(refY2))\n",
    "gammaIndex=np.zeros(len(gateX2))\n",
    "gammaIndexTEMP=np.zeros(len(refX2))\n",
    "drTEMP=np.zeros(len(refX2))\n",
    "dr=np.zeros(len(refX2))\n",
    "\n",
    "#compute Gamma Index 1D\n",
    "for i in range(len(gateX2)):\n",
    "    for j in range(len(refX2)):\n",
    "        dr[j]=(gateX2[i]-refX2[j])\n",
    "        deltaD[j]=gateY2[i]-refY2[j]\n",
    "        gammaIndexTEMP[j]=m.sqrt(((deltaD[j]**2)/deltaDmax**2) + ((dr[j]**2)/DTA**2))           \n",
    "    gammaIndex[i]=gammaIndexTEMP.min()\n",
    "\n",
    "#Compute Gamma Index Pass Rate (with threshold or not)\n",
    "nok=0.0\n",
    "a=0\n",
    "if Threshold==True: \n",
    "    for i in range(len(gammaIndex)):\n",
    "\n",
    "        if gateY2[i]>0.10:\n",
    "            a=a+1\n",
    "            if gammaIndex[i]<1:\n",
    "                nok=nok+1\n",
    "    print ('nombre de points testés : ' +str(a))\n",
    "    print ('nombre de points passant le test (<1) : ' +str(nok))\n",
    "    passRate=(nok/a)*100\n",
    "else:\n",
    "    nok=(gammaIndex < 1).sum()\n",
    "    passRate=nok*100.0/len(gammaIndex)\n",
    "\n",
    "#print results\n",
    "percentDmax=deltaDmax*100\n",
    "print('RESULTAT GATE : ')\n",
    "print('*   Gamma Index Pass Rate '+str(percentDmax) + '%-' +str(DTA) + 'mm: '  +str(passRate) +' %')"
   ]
  },
  {
   "cell_type": "code",
   "execution_count": 70,
   "metadata": {},
   "outputs": [
    {
     "name": "stdout",
     "output_type": "stream",
     "text": [
      "nombre de points testés : 861\n",
      "nombre de points passant le test (<1) : 640.0\n",
      "RESULTAT EMC : \n",
      "*   Gamma Index Pass Rate 3.0% - 3mm : 74.3321718931 %\n"
     ]
    }
   ],
   "source": [
    "#    EMC   #\n",
    "#create numpy ndarray for gamma comprison\n",
    "deltaD=np.zeros(len(refY2))\n",
    "gammaIndex2=np.zeros(len(emcX2))\n",
    "gammaIndexTEMP=np.zeros(len(refX2))\n",
    "drTEMP=np.zeros(len(refX2))\n",
    "dr=np.zeros(len(refX2))\n",
    "\n",
    "#compute Gamma Index 1D\n",
    "for i in range(len(emcX2)):\n",
    "    for j in range(len(refX2)):\n",
    "        dr[j]=(emcX2[i]-refX2[j])\n",
    "        deltaD[j]=emcY2[i]-refY2[j]\n",
    "        gammaIndexTEMP[j]=m.sqrt(((deltaD[j]**2)/deltaDmax**2) + ((dr[j]**2)/DTA**2))\n",
    "    #print gammaIndexTEMP.argmin()\n",
    "    gammaIndex2[i]=gammaIndexTEMP.min()\n",
    "#print gammaIndex2\n",
    "#Compute Gamma Index Pass Rate (with threshold or not)\n",
    "nok=0.0\n",
    "a=0\n",
    "if Threshold==True: \n",
    "    for i in range(len(gammaIndex2)):\n",
    "\n",
    "        if emcY2[i]>0.10:\n",
    "            a=a+1\n",
    "            if gammaIndex2[i]<1:\n",
    "                nok=nok+1\n",
    "    print ('nombre de points testés : ' +str(a))\n",
    "    print ('nombre de points passant le test (<1) : ' +str(nok))\n",
    "    passRate2=(nok/a)*100\n",
    "else:\n",
    "    nok=(gammaIndex2 < 1).sum()\n",
    "    passRate2=nok*100.0/len(gammaIndex2)\n",
    "\n",
    "#print results\n",
    "percentDmax=deltaDmax*100\n",
    "print('RESULTAT EMC : ')\n",
    "print('*   Gamma Index Pass Rate '+str(percentDmax) + '% - ' +str(DTA) + 'mm : '  +str(passRate2) +' %')"
   ]
  },
  {
   "cell_type": "code",
   "execution_count": 71,
   "metadata": {},
   "outputs": [],
   "source": [
    "GIPR={}\n",
    "GIPR['exp']=name\n",
    "GIPR['GATE']=passRate\n",
    "GIPR['EMC']=passRate2\n",
    "\n",
    "gipr=open('/media/sf_CRCT/JupyterNotebook/data/plot/gamaIndex/elecArticle/'+energy+'E/'+name+'GIPR.txt', 'w')\n",
    "\n",
    "gipr.write(GIPR['exp'] + '\\n')\n",
    "gipr.write('GATE:' + '\\n')\n",
    "gipr.write(str(GIPR['GATE']) + '\\n')\n",
    "gipr.write('EMC:' + '\\n')\n",
    "gipr.write(str(GIPR['EMC']) + '\\n')\n",
    "gipr.close()\n"
   ]
  },
  {
   "cell_type": "code",
   "execution_count": 72,
   "metadata": {},
   "outputs": [],
   "source": [
    "mes=np.column_stack((refX2, refY2))\n",
    "gate=np.column_stack((gateX2, gateY2))\n",
    "emc=np.column_stack((emcX2, emcY2))\n",
    "gamma1=np.column_stack((gateX2, gammaIndex))\n",
    "gamma2=np.column_stack((emcX2, gammaIndex2))\n",
    "\n",
    "np.savetxt('/media/sf_CRCT/JupyterNotebook/data/plot/gamaIndex/elecArticle/'+energy+'E/mes_'+name+'.csv', mes, delimiter=',')\n",
    "np.savetxt('/media/sf_CRCT/JupyterNotebook/data/plot/gamaIndex/elecArticle/'+energy+'E/gate_'+name+'.csv', gate, delimiter=',')\n",
    "np.savetxt('/home/crct/CRCT/JupyterNotebook/data/plot/gamaIndex/elecArticle/'+energy+'E/emc_'+name+'.csv', emc, delimiter=',')\n",
    "np.savetxt('/media/sf_CRCT/JupyterNotebook/data/plot/gamaIndex/elecArticle/'+energy+'E/gammaGate_'+name+'.csv', gamma1, delimiter=',')\n",
    "np.savetxt('/media/sf_CRCT/JupyterNotebook/data/plot/gamaIndex/elecArticle/'+energy+'E/gammaEmc_'+name+'.csv', gamma2, delimiter=',')\n"
   ]
  }
 ],
 "metadata": {
  "kernelspec": {
   "display_name": "Python 2",
   "language": "python",
   "name": "python2"
  },
  "language_info": {
   "codemirror_mode": {
    "name": "ipython",
    "version": 2
   },
   "file_extension": ".py",
   "mimetype": "text/x-python",
   "name": "python",
   "nbconvert_exporter": "python",
   "pygments_lexer": "ipython2",
   "version": "2.7.12"
  }
 },
 "nbformat": 4,
 "nbformat_minor": 2
}
